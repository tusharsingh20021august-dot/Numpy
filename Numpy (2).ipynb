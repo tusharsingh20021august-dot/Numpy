{
 "cells": [
  {
   "cell_type": "code",
   "execution_count": null,
   "id": "0fd28c92-65f0-4027-84d8-c6afac051375",
   "metadata": {},
   "outputs": [],
   "source": [
    "# Numpy is used to hold the large amount of data which is not possible for python (weather report data, stockmarket data) \n",
    "# for install we used (!pip install numpy)"
   ]
  },
  {
   "cell_type": "code",
   "execution_count": 1,
   "id": "0b2027d4-02e4-4c1e-9df5-2fc8a1562cf1",
   "metadata": {},
   "outputs": [],
   "source": [
    "import numpy as np"
   ]
  },
  {
   "cell_type": "code",
   "execution_count": 2,
   "id": "75ce1edf-33b6-4c4f-a6b0-84d451454612",
   "metadata": {},
   "outputs": [
    {
     "name": "stdout",
     "output_type": "stream",
     "text": [
      "[[1 2 3 4]\n",
      " [5 6 7 8]]\n"
     ]
    }
   ],
   "source": [
    "x1 = ([[1,2,3,4],[5,6,7,8]])\n",
    "arr_1 = np.array(x1)\n",
    "print(arr_1)"
   ]
  },
  {
   "cell_type": "code",
   "execution_count": 8,
   "id": "7cba88b1-5f2d-4c98-afad-11867f9745cb",
   "metadata": {},
   "outputs": [
    {
     "data": {
      "text/plain": [
       "(2, 4)"
      ]
     },
     "execution_count": 8,
     "metadata": {},
     "output_type": "execute_result"
    }
   ],
   "source": [
    "#it show the shape present in the row or columns\n",
    "arr_1.shape"
   ]
  },
  {
   "cell_type": "code",
   "execution_count": 72,
   "id": "17d75c2e-15ce-497c-b715-fde0a36bce12",
   "metadata": {},
   "outputs": [
    {
     "name": "stdout",
     "output_type": "stream",
     "text": [
      "<built-in method reshape of numpy.ndarray object at 0x00000174E9E45470>\n"
     ]
    }
   ],
   "source": [
    "reshaped_arr = arr_2.reshape\n",
    "print(reshaped_arr)"
   ]
  },
  {
   "cell_type": "code",
   "execution_count": 9,
   "id": "9defc412-0926-443a-8290-a76178561131",
   "metadata": {},
   "outputs": [
    {
     "data": {
      "text/plain": [
       "2"
      ]
     },
     "execution_count": 9,
     "metadata": {},
     "output_type": "execute_result"
    }
   ],
   "source": [
    "# it show the type to dimensional \n",
    "arr_1.ndim"
   ]
  },
  {
   "cell_type": "code",
   "execution_count": 55,
   "id": "c3bd4581-db33-4553-90d6-e6cf763d1ab7",
   "metadata": {},
   "outputs": [
    {
     "name": "stdout",
     "output_type": "stream",
     "text": [
      "[[[ 1  2  5]\n",
      "  [ 3  4 11]\n",
      "  [ 5  6 12]\n",
      "  [ 7  8 16]]]\n",
      "Number of dimensions - 3\n"
     ]
    }
   ],
   "source": [
    "# this is 3 dimensional array\n",
    "arr3 = np.array([[[1, 2,5], [3, 4,11], [5, 6,12], [7, 8,16]]])\n",
    "print(arr3)\n",
    "print(\"Number of dimensions -\",arr3.ndim)"
   ]
  },
  {
   "cell_type": "code",
   "execution_count": 53,
   "id": "c1ac0a92-4a84-4958-b5d1-fe1f8919828a",
   "metadata": {},
   "outputs": [
    {
     "data": {
      "text/plain": [
       "8"
      ]
     },
     "execution_count": 53,
     "metadata": {},
     "output_type": "execute_result"
    }
   ],
   "source": [
    "#its show the size the present of number in the array\n",
    "arr_1.size"
   ]
  },
  {
   "cell_type": "code",
   "execution_count": 19,
   "id": "5a066239-b728-4c7a-8a3f-4e86ae6c6bbb",
   "metadata": {},
   "outputs": [
    {
     "data": {
      "text/plain": [
       "12"
      ]
     },
     "execution_count": 19,
     "metadata": {},
     "output_type": "execute_result"
    }
   ],
   "source": [
    "arr3.size"
   ]
  },
  {
   "cell_type": "code",
   "execution_count": 26,
   "id": "55def1e3-a2ac-4a1e-945a-5363fd70ef0c",
   "metadata": {},
   "outputs": [
    {
     "data": {
      "text/plain": [
       "np.int64(80)"
      ]
     },
     "execution_count": 26,
     "metadata": {},
     "output_type": "execute_result"
    }
   ],
   "source": [
    "sum_1 = np.sum(arr3)\n",
    "sum_1"
   ]
  },
  {
   "cell_type": "code",
   "execution_count": 27,
   "id": "b693011e-1474-4175-9823-b2e6f34445c9",
   "metadata": {},
   "outputs": [
    {
     "data": {
      "text/plain": [
       "np.int64(16)"
      ]
     },
     "execution_count": 27,
     "metadata": {},
     "output_type": "execute_result"
    }
   ],
   "source": [
    "max_1 = np.max(arr3)\n",
    "max_1"
   ]
  },
  {
   "cell_type": "markdown",
   "id": "a3ef141f-432f-4157-95fe-3416c5cc21f3",
   "metadata": {},
   "source": [
    "min_1 = np.min(arr3)\n",
    "min_1"
   ]
  },
  {
   "cell_type": "code",
   "execution_count": 36,
   "id": "03d2da0a-b486-4bf8-95c6-016e9c95267c",
   "metadata": {},
   "outputs": [
    {
     "data": {
      "text/plain": [
       "dtype('int64')"
      ]
     },
     "execution_count": 36,
     "metadata": {},
     "output_type": "execute_result"
    }
   ],
   "source": [
    "arr3.dtype"
   ]
  },
  {
   "cell_type": "code",
   "execution_count": 37,
   "id": "edc62fad-97ad-486f-b5b8-c2d70557bfaf",
   "metadata": {},
   "outputs": [
    {
     "data": {
      "text/plain": [
       "np.float64(6.666666666666667)"
      ]
     },
     "execution_count": 37,
     "metadata": {},
     "output_type": "execute_result"
    }
   ],
   "source": [
    "mean_1 = np.mean(arr3)\n",
    "mean_1"
   ]
  },
  {
   "cell_type": "code",
   "execution_count": 45,
   "id": "7235b0ee-4199-4d95-861d-64a929b0b755",
   "metadata": {},
   "outputs": [
    {
     "data": {
      "text/plain": [
       "array([ 2,  4,  6,  8, 10])"
      ]
     },
     "execution_count": 45,
     "metadata": {},
     "output_type": "execute_result"
    }
   ],
   "source": [
    "x2 = [2, 4, 6, 8, 10]\n",
    "arr_2 = np.array(x2)\n",
    "arr_2"
   ]
  },
  {
   "cell_type": "code",
   "execution_count": 44,
   "id": "e4382e04-5d40-4e97-8d69-b1286f503751",
   "metadata": {},
   "outputs": [
    {
     "data": {
      "text/plain": [
       "np.float64(6.0)"
      ]
     },
     "execution_count": 44,
     "metadata": {},
     "output_type": "execute_result"
    }
   ],
   "source": [
    "mean_2 = np.mean(arr_2)\n",
    "mean_2"
   ]
  },
  {
   "cell_type": "code",
   "execution_count": 60,
   "id": "f1305c62-8a51-410a-9686-e790e4461550",
   "metadata": {},
   "outputs": [
    {
     "name": "stdout",
     "output_type": "stream",
     "text": [
      "[ 4  6  8 10 12]\n",
      "[14 15 16 17 18]\n"
     ]
    }
   ],
   "source": [
    "#perform vector operation \n",
    "x4 = [2,3,4,5,6]\n",
    "arr_4 = np.array(x4)\n",
    "print(arr_4 * 2)\n",
    "print(arr_4 + 12)"
   ]
  },
  {
   "cell_type": "code",
   "execution_count": 68,
   "id": "9fa517d6-4560-4bd0-a275-b0727bc47113",
   "metadata": {},
   "outputs": [
    {
     "data": {
      "text/plain": [
       "array([[ 5,  7,  9],\n",
       "       [11, 13, 15]])"
      ]
     },
     "execution_count": 68,
     "metadata": {},
     "output_type": "execute_result"
    }
   ],
   "source": [
    "#perform vector operation\n",
    "x = [[1,2,3],[7,8,9]]\n",
    "x2 = [[4,5,6],[4,5,6]]\n",
    "a_arr = np.array(x)\n",
    "n_arr1 = np.array(x2)\n",
    "a_arr+n_arr1"
   ]
  },
  {
   "cell_type": "code",
   "execution_count": 63,
   "id": "b7e7eec3-5267-4022-a094-9200f1aee101",
   "metadata": {},
   "outputs": [
    {
     "name": "stdout",
     "output_type": "stream",
     "text": [
      "[[4 7]\n",
      " [5 8]\n",
      " [6 9]]\n"
     ]
    }
   ],
   "source": [
    "#matrixs\n",
    "matrixs = np.array([[4,5,6],[7,8,9]])\n",
    "print(matrixs.T)"
   ]
  },
  {
   "cell_type": "code",
   "execution_count": null,
   "id": "a0114f76-3678-4cc6-b057-3bf0f801975f",
   "metadata": {},
   "outputs": [],
   "source": [
    "#questio to solve"
   ]
  },
  {
   "cell_type": "code",
   "execution_count": 5,
   "id": "4fa118b5-385d-4dcb-9b58-435195e0f801",
   "metadata": {},
   "outputs": [
    {
     "data": {
      "text/plain": [
       "np.float64(5.0)"
      ]
     },
     "execution_count": 5,
     "metadata": {},
     "output_type": "execute_result"
    }
   ],
   "source": [
    "#trying to remove the values(sum,mean,max,min) of each rows separetly \n",
    "x5 = [[[1, 2 ,3],\n",
    "[4, 5, 6],\n",
    "[7, 8, 9]]]\n",
    "arr_5 = np.array(x5)\n",
    "mean_2 = np.mean(arr_5)\n",
    "mean_2"
   ]
  },
  {
   "cell_type": "code",
   "execution_count": 19,
   "id": "e43f3832-a439-42c0-a2d7-265e490ad30f",
   "metadata": {},
   "outputs": [
    {
     "name": "stdout",
     "output_type": "stream",
     "text": [
      "[7 8]\n"
     ]
    }
   ],
   "source": [
    "#This is used to print a single row when multiple rows are present\n",
    "print(arr_5[0,2,:2])"
   ]
  },
  {
   "cell_type": "code",
   "execution_count": 38,
   "id": "71357e2a-f96c-43aa-9b36-ad5e8dd0962c",
   "metadata": {},
   "outputs": [
    {
     "name": "stdout",
     "output_type": "stream",
     "text": [
      "[7 8 9]\n"
     ]
    }
   ],
   "source": [
    "print(arr_5[0,2])"
   ]
  },
  {
   "cell_type": "code",
   "execution_count": 31,
   "id": "c3f9905a-c6a4-4b59-87b5-db80bb18ff3e",
   "metadata": {},
   "outputs": [
    {
     "name": "stdout",
     "output_type": "stream",
     "text": [
      "[7 8 9]\n"
     ]
    }
   ],
   "source": [
    "print( arr_5[0,2])"
   ]
  },
  {
   "cell_type": "code",
   "execution_count": 43,
   "id": "1203a1ff-75d8-44dd-8b83-a69eb7369084",
   "metadata": {},
   "outputs": [
    {
     "data": {
      "text/plain": [
       "np.float64(8.0)"
      ]
     },
     "execution_count": 43,
     "metadata": {},
     "output_type": "execute_result"
    }
   ],
   "source": [
    "#This is used to compute the sum, mean, maximum, and minimum of each row separately.\n",
    "mean = np.mean (arr_5[0,2])\n",
    "mean"
   ]
  },
  {
   "cell_type": "code",
   "execution_count": 42,
   "id": "be6308e4-f813-45d7-b17c-591f01ea009e",
   "metadata": {},
   "outputs": [
    {
     "data": {
      "text/plain": [
       "np.int64(24)"
      ]
     },
     "execution_count": 42,
     "metadata": {},
     "output_type": "execute_result"
    }
   ],
   "source": [
    "sum_1 = np.sum(arr_5[0,2])\n",
    "sum_1"
   ]
  },
  {
   "cell_type": "code",
   "execution_count": 45,
   "id": "c3e50bb2-e24e-4447-a312-44c171277978",
   "metadata": {},
   "outputs": [
    {
     "data": {
      "text/plain": [
       "np.int64(6)"
      ]
     },
     "execution_count": 45,
     "metadata": {},
     "output_type": "execute_result"
    }
   ],
   "source": [
    "max_1 = np.max(arr_5[0,1])\n",
    "max_1"
   ]
  },
  {
   "cell_type": "code",
   "execution_count": 6,
   "id": "49529875-3c3d-49d5-af5f-9ac3ab8c4687",
   "metadata": {},
   "outputs": [
    {
     "data": {
      "text/plain": [
       "np.int64(7)"
      ]
     },
     "execution_count": 6,
     "metadata": {},
     "output_type": "execute_result"
    }
   ],
   "source": [
    "import numpy as np\n",
    "min_1 = np.min(arr_5[0,2])\n",
    "min_1"
   ]
  },
  {
   "cell_type": "code",
   "execution_count": 1,
   "id": "af1e16e6-1ac4-4fa0-a92f-64b97b1ecca4",
   "metadata": {},
   "outputs": [],
   "source": [
    "import numpy as np"
   ]
  },
  {
   "cell_type": "code",
   "execution_count": 11,
   "id": "be8c0904-6a18-4e64-b0eb-08f7889be462",
   "metadata": {},
   "outputs": [],
   "source": [
    "x = [2,4,5,6,8]\n",
    "x1 = [1001,1002,1003,1004,1005]\n",
    "arr_1 = np.array(x)\n",
    "arr_2 = np.array(x1)"
   ]
  },
  {
   "cell_type": "code",
   "execution_count": 12,
   "id": "41a40f7d-3509-4b2c-88e7-535e4e891bfa",
   "metadata": {},
   "outputs": [
    {
     "data": {
      "text/plain": [
       "array([1001, 1002, 1003, 1004, 1005])"
      ]
     },
     "execution_count": 12,
     "metadata": {},
     "output_type": "execute_result"
    }
   ],
   "source": [
    "arr_2"
   ]
  },
  {
   "cell_type": "code",
   "execution_count": 6,
   "id": "b3483c1d-d59b-4dde-b1e3-f1e4131da116",
   "metadata": {},
   "outputs": [
    {
     "data": {
      "text/plain": [
       "np.float64(2.0)"
      ]
     },
     "execution_count": 6,
     "metadata": {},
     "output_type": "execute_result"
    }
   ],
   "source": [
    "st_1 = np.std(arr_1)\n",
    "st_1"
   ]
  },
  {
   "cell_type": "code",
   "execution_count": 14,
   "id": "3627f46a-73bb-442d-9d7a-b747d327877d",
   "metadata": {},
   "outputs": [
    {
     "data": {
      "text/plain": [
       "np.float64(1.4142135623730951)"
      ]
     },
     "execution_count": 14,
     "metadata": {},
     "output_type": "execute_result"
    }
   ],
   "source": [
    "st_2 = np.std(arr_2)\n",
    "st_2"
   ]
  },
  {
   "cell_type": "code",
   "execution_count": null,
   "id": "42eb5353-69c0-4d4f-97bb-bc4ab193808f",
   "metadata": {},
   "outputs": [],
   "source": []
  }
 ],
 "metadata": {
  "kernelspec": {
   "display_name": "Python 3 (ipykernel)",
   "language": "python",
   "name": "python3"
  },
  "language_info": {
   "codemirror_mode": {
    "name": "ipython",
    "version": 3
   },
   "file_extension": ".py",
   "mimetype": "text/x-python",
   "name": "python",
   "nbconvert_exporter": "python",
   "pygments_lexer": "ipython3",
   "version": "3.13.5"
  }
 },
 "nbformat": 4,
 "nbformat_minor": 5
}
