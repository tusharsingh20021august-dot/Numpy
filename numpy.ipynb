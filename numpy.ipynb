{
 "cells": [
  {
   "cell_type": "code",
   "execution_count": 1,
   "id": "14a4a195-d2e7-4cd3-90d7-547460227b4d",
   "metadata": {},
   "outputs": [],
   "source": [
    "# numpy\n",
    "import numpy as np"
   ]
  },
  {
   "cell_type": "code",
   "execution_count": 13,
   "id": "90ef95e0-a102-4fe1-adae-a150c4942566",
   "metadata": {},
   "outputs": [
    {
     "name": "stdout",
     "output_type": "stream",
     "text": [
      "[0 2 4 6 8]\n",
      "[10  7  4  1]\n"
     ]
    }
   ],
   "source": [
    "24/10/2025\n",
    "# arrange (start, stop,step, datatype = none)\n",
    "data = np.arange(0,10,2, dtype = int)\n",
    "dt = np.arange(10,0,-3)\n",
    "print(data)\n",
    "print(dt)"
   ]
  },
  {
   "cell_type": "code",
   "execution_count": 26,
   "id": "4cac5b75-d88a-40b6-b44b-42fdc6821a92",
   "metadata": {},
   "outputs": [
    {
     "name": "stdout",
     "output_type": "stream",
     "text": [
      "[ 0.   2.5  5.   7.5 10. ]\n"
     ]
    }
   ],
   "source": [
    "# linespace (start , stop,num=5, endpoint = True, retstep = False, dtype = none)\n",
    "data = np.linspace(0,10,5, endpoint = True, retstep = False)\n",
    "print(data)"
   ]
  },
  {
   "cell_type": "code",
   "execution_count": 22,
   "id": "228e6968-c64d-4934-8900-eaca29e17d7b",
   "metadata": {},
   "outputs": [
    {
     "name": "stdout",
     "output_type": "stream",
     "text": [
      "[1.e+01 1.e+04 1.e+07 1.e+10]\n",
      "[1.e+01 1.e+04 1.e+07 1.e+10]\n"
     ]
    }
   ],
   "source": [
    "# logspace (start, stop,step, base= none)\n",
    "dat = np.logspace(1,10,4, base = 10)\n",
    "print(dat)\n",
    "\n",
    "dat1 = np.logspace(1,10,4)\n",
    "print(dat1)"
   ]
  },
  {
   "cell_type": "code",
   "execution_count": null,
   "id": "ab98cac3-de5f-491c-bc90-0e03e3b3c8d4",
   "metadata": {},
   "outputs": [],
   "source": [
    "# arrange (start, stop,step, datatype = none)\n",
    "data = np.arange(0,10,2, dtype = int)\n",
    "dt = np.arange(10,0,-3)\n",
    "print(data)\n",
    "print(dt)\n",
    "\n",
    "\n",
    "# logspace (start, stop,step, base= none)\n",
    "dat = np.logspace(1,10,4, base = 10)\n",
    "print(dat)\n",
    "\n",
    "# logspace (start, stop,step, base= none)\n",
    "dat = np.logspace(1,10,4, base = 10)\n",
    "print(dat)\n"
   ]
  },
  {
   "cell_type": "code",
   "execution_count": null,
   "id": "b156a50c-509f-47c0-a9b7-22a0a723988e",
   "metadata": {},
   "outputs": [],
   "source": []
  },
  {
   "cell_type": "code",
   "execution_count": null,
   "id": "df3674a3-9319-4f57-88f6-e665b2e6e986",
   "metadata": {},
   "outputs": [],
   "source": []
  },
  {
   "cell_type": "code",
   "execution_count": null,
   "id": "58c07bb0-d46b-428e-89b6-fd55edc4e8c5",
   "metadata": {},
   "outputs": [],
   "source": []
  },
  {
   "cell_type": "code",
   "execution_count": null,
   "id": "299e7396-b85c-4614-a1cf-81ee71ca4d2d",
   "metadata": {},
   "outputs": [],
   "source": []
  },
  {
   "cell_type": "code",
   "execution_count": null,
   "id": "1e10d6ec-22f1-45b0-80a2-e35ec786c845",
   "metadata": {},
   "outputs": [],
   "source": []
  },
  {
   "cell_type": "code",
   "execution_count": null,
   "id": "a9550ba4-5a0c-4aa1-b595-14fcd2bb5d6b",
   "metadata": {},
   "outputs": [],
   "source": []
  },
  {
   "cell_type": "code",
   "execution_count": null,
   "id": "15722529-f88c-4805-9b7d-6daea4619eb5",
   "metadata": {},
   "outputs": [],
   "source": []
  },
  {
   "cell_type": "code",
   "execution_count": null,
   "id": "890bc8fd-06da-49b5-8393-5693d4ab8084",
   "metadata": {},
   "outputs": [],
   "source": []
  },
  {
   "cell_type": "code",
   "execution_count": null,
   "id": "24848bb5-2231-4293-8417-de5d2f84186a",
   "metadata": {},
   "outputs": [],
   "source": []
  },
  {
   "cell_type": "code",
   "execution_count": null,
   "id": "64c313dc-21c7-4bb5-a7e7-c9e8b98db04c",
   "metadata": {},
   "outputs": [],
   "source": []
  },
  {
   "cell_type": "code",
   "execution_count": null,
   "id": "5344b32e-a436-46b7-afa0-7a86d8ce236c",
   "metadata": {},
   "outputs": [],
   "source": []
  }
 ],
 "metadata": {
  "kernelspec": {
   "display_name": "Python 3 (ipykernel)",
   "language": "python",
   "name": "python3"
  },
  "language_info": {
   "codemirror_mode": {
    "name": "ipython",
    "version": 3
   },
   "file_extension": ".py",
   "mimetype": "text/x-python",
   "name": "python",
   "nbconvert_exporter": "python",
   "pygments_lexer": "ipython3",
   "version": "3.13.5"
  }
 },
 "nbformat": 4,
 "nbformat_minor": 5
}
